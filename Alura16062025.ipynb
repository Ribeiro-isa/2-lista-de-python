{
  "nbformat": 4,
  "nbformat_minor": 0,
  "metadata": {
    "colab": {
      "provenance": [],
      "authorship_tag": "ABX9TyMXdaUb+X5kHus5LcOVyAdF",
      "include_colab_link": true
    },
    "kernelspec": {
      "name": "python3",
      "display_name": "Python 3"
    },
    "language_info": {
      "name": "python"
    }
  },
  "cells": [
    {
      "cell_type": "markdown",
      "metadata": {
        "id": "view-in-github",
        "colab_type": "text"
      },
      "source": [
        "<a href=\"https://colab.research.google.com/github/Ribeiro-isa/2-lista-de-python/blob/main/Alura16062025.ipynb\" target=\"_parent\"><img src=\"https://colab.research.google.com/assets/colab-badge.svg\" alt=\"Open In Colab\"/></a>"
      ]
    },
    {
      "cell_type": "code",
      "execution_count": 1,
      "metadata": {
        "colab": {
          "base_uri": "https://localhost:8080/"
        },
        "id": "h5ADEy6uXEeh",
        "outputId": "d719f0d9-a279-4c7d-c8e4-e8255be3c85a"
      },
      "outputs": [
        {
          "output_type": "execute_result",
          "data": {
            "text/plain": [
              "[61, 74, 28, 50, 24]"
            ]
          },
          "metadata": {},
          "execution_count": 1
        }
      ],
      "source": [
        "#Curso : \"Python para Data Science: trabalhando com funções, estruturas de dados e exceções\"\n",
        "\n",
        "from random import randrange, sample\n",
        "\n",
        "lista = []\n",
        "\n",
        "for i in range(0, 20):\n",
        "  lista.append(randrange(100))\n",
        "\n",
        "sample(lista, 5)"
      ]
    },
    {
      "cell_type": "code",
      "source": [
        "#Notas dos estudantes\n",
        "\n",
        "notas = {'1° Trimestre':8.5, '2°Trimestre': 9.5, '3°Trimestre': 10}\n",
        "notas"
      ],
      "metadata": {
        "colab": {
          "base_uri": "https://localhost:8080/"
        },
        "id": "KV63xbHhXtsk",
        "outputId": "146b291e-49b2-4c16-8e1b-39f3394f50f3"
      },
      "execution_count": 2,
      "outputs": [
        {
          "output_type": "execute_result",
          "data": {
            "text/plain": [
              "{'1° Trimestre': 8.5, '2°Trimestre': 9.5, '3°Trimestre': 10}"
            ]
          },
          "metadata": {},
          "execution_count": 2
        }
      ]
    },
    {
      "cell_type": "code",
      "source": [
        "# Calculando a soma\n",
        "soma = 0\n",
        "\n",
        "for nota in notas.values():\n",
        "  soma += nota\n",
        "\n",
        "soma"
      ],
      "metadata": {
        "colab": {
          "base_uri": "https://localhost:8080/"
        },
        "id": "b8FIDacAZIoc",
        "outputId": "ff4021dd-5476-4d11-d706-b6f0cc66ff6c"
      },
      "execution_count": 3,
      "outputs": [
        {
          "output_type": "execute_result",
          "data": {
            "text/plain": [
              "28.0"
            ]
          },
          "metadata": {},
          "execution_count": 3
        }
      ]
    },
    {
      "cell_type": "code",
      "source": [
        "# Usandol a função sum\n",
        "somatorio = sum(notas.values())\n",
        "somatorio"
      ],
      "metadata": {
        "colab": {
          "base_uri": "https://localhost:8080/"
        },
        "id": "WzIQrS4qZfIv",
        "outputId": "84714d77-08a7-4cdf-a24c-e4b3ac646183"
      },
      "execution_count": 4,
      "outputs": [
        {
          "output_type": "execute_result",
          "data": {
            "text/plain": [
              "28.0"
            ]
          },
          "metadata": {},
          "execution_count": 4
        }
      ]
    },
    {
      "cell_type": "code",
      "source": [
        "# Usando a função embutida len()\n",
        "qtd_notas = len(notas)\n",
        "qtd_notas"
      ],
      "metadata": {
        "colab": {
          "base_uri": "https://localhost:8080/"
        },
        "id": "MINXP9AaZ45X",
        "outputId": "af270f24-3f38-44d0-e26e-8c4a193e6a2a"
      },
      "execution_count": 5,
      "outputs": [
        {
          "output_type": "execute_result",
          "data": {
            "text/plain": [
              "3"
            ]
          },
          "metadata": {},
          "execution_count": 5
        }
      ]
    },
    {
      "cell_type": "code",
      "source": [
        "# Calculando a média\n",
        "media = somatorio / qtd_notas\n",
        "media"
      ],
      "metadata": {
        "colab": {
          "base_uri": "https://localhost:8080/"
        },
        "id": "ffZ-6ztsaNHO",
        "outputId": "91152e77-ea4d-497a-c9f8-e7e92a04e113"
      },
      "execution_count": 6,
      "outputs": [
        {
          "output_type": "execute_result",
          "data": {
            "text/plain": [
              "9.333333333333334"
            ]
          },
          "metadata": {},
          "execution_count": 6
        }
      ]
    },
    {
      "cell_type": "code",
      "source": [
        "roud?"
      ],
      "metadata": {
        "colab": {
          "base_uri": "https://localhost:8080/"
        },
        "id": "F3VQHt6yac-x",
        "outputId": "78a03efb-3bfb-42b8-a8c2-f0a4441c3aaf"
      },
      "execution_count": 7,
      "outputs": [
        {
          "output_type": "stream",
          "name": "stdout",
          "text": [
            "Object `roud` not found.\n"
          ]
        }
      ]
    },
    {
      "cell_type": "code",
      "source": [
        "media = somatorio / qtd_notas\n",
        "media = round(media, 1)\n",
        "media"
      ],
      "metadata": {
        "colab": {
          "base_uri": "https://localhost:8080/"
        },
        "id": "uVDD_W75a4Yg",
        "outputId": "23b7c3e2-d481-4c70-efe2-5e7b8964b8ea"
      },
      "execution_count": 10,
      "outputs": [
        {
          "output_type": "execute_result",
          "data": {
            "text/plain": [
              "9.3"
            ]
          },
          "metadata": {},
          "execution_count": 10
        }
      ]
    },
    {
      "cell_type": "code",
      "source": [
        "peso = float(input(\"Digite o peso, em quilogramas: \"))\n",
        "altura = float(input(\"Digite a altura, em metros: \"))\n",
        "\n",
        "imc = round(peso / pow(altura, 2), 2)\n",
        "\n",
        "print(f\"O IMC da pessoa é: {imc}\")"
      ],
      "metadata": {
        "colab": {
          "base_uri": "https://localhost:8080/"
        },
        "id": "98lBGd91bhXk",
        "outputId": "21527ce0-b3e9-4a4b-e06c-8f3be9b5606a"
      },
      "execution_count": 11,
      "outputs": [
        {
          "output_type": "stream",
          "name": "stdout",
          "text": [
            "Digite o peso, em quilogramas: 52000\n",
            "Digite a altura, em metros: 1.57\n",
            "O IMC da pessoa é: 21096.19\n"
          ]
        }
      ]
    },
    {
      "cell_type": "code",
      "source": [
        "# Função sem parâmetros\n",
        "\n",
        "def minha_funcao():\n",
        "  # Aqui você pode adicionar suas instruções\n",
        "  print(\"Esta é a minha função sem parâmetros.\")\n",
        "\n",
        "# Exemplo de como chamar a função:\n",
        "# minha_funcao()"
      ],
      "metadata": {
        "id": "eYXkbZa9bqe3"
      },
      "execution_count": 14,
      "outputs": []
    },
    {
      "cell_type": "code",
      "source": [
        "def media():\n",
        "  calculo = (10 + 9 + 8 )/3\n",
        "  print(calculo)\n",
        "\n",
        "media()"
      ],
      "metadata": {
        "colab": {
          "base_uri": "https://localhost:8080/"
        },
        "id": "aOHFwNtWcfVG",
        "outputId": "7bb8aa28-6ba6-4232-ef2c-0c968d7700d9"
      },
      "execution_count": 18,
      "outputs": [
        {
          "output_type": "stream",
          "name": "stdout",
          "text": [
            "9.0\n"
          ]
        }
      ]
    },
    {
      "cell_type": "code",
      "source": [
        "# Função com parâmetros\n",
        "\n",
        "def media(nota_1, nota_2, nota_3):\n",
        "  # Aqui você pode adicionar suas instruções\n",
        "  calculo = (nota_1 + nota_2 + nota_3)/3\n",
        "  print(calculo)\n",
        "\n",
        "media(10, 9, 8)"
      ],
      "metadata": {
        "colab": {
          "base_uri": "https://localhost:8080/"
        },
        "id": "--GQvrOVdWHm",
        "outputId": "e5ede21c-ce5c-4c49-a087-18f1ea0d15e9"
      },
      "execution_count": 20,
      "outputs": [
        {
          "output_type": "stream",
          "name": "stdout",
          "text": [
            "9.0\n"
          ]
        }
      ]
    },
    {
      "cell_type": "code",
      "source": [
        "nota_1 = 8\n",
        "nota_2 = 9\n",
        "nota_3 = 10\n",
        "\n",
        "media(nota_1, nota_2, nota_3)"
      ],
      "metadata": {
        "colab": {
          "base_uri": "https://localhost:8080/"
        },
        "id": "DP1ikmKveZvT",
        "outputId": "982bcc38-baa2-4b70-af7e-008abb03bade"
      },
      "execution_count": 22,
      "outputs": [
        {
          "output_type": "stream",
          "name": "stdout",
          "text": [
            "9.0\n"
          ]
        }
      ]
    },
    {
      "cell_type": "code",
      "source": [
        "# Notas do(a) estudante\n",
        "notas = [8.5, 9.5, 10, 6]"
      ],
      "metadata": {
        "id": "l7IQc_Pke_X0"
      },
      "execution_count": 23,
      "outputs": []
    },
    {
      "cell_type": "code",
      "source": [
        "def media(lista):\n",
        "  print(sum(lista) / len(lista))\n",
        "\n",
        "media(notas)"
      ],
      "metadata": {
        "colab": {
          "base_uri": "https://localhost:8080/"
        },
        "id": "l3LjpGpbfTF7",
        "outputId": "935edbc7-4023-457f-f0e6-ed27ecb6e297"
      },
      "execution_count": 24,
      "outputs": [
        {
          "output_type": "stream",
          "name": "stdout",
          "text": [
            "8.5\n"
          ]
        }
      ]
    },
    {
      "cell_type": "code",
      "source": [
        "#Escopo de função(Funções com retorno)\n",
        "def media(lista):\n",
        "  return calculo"
      ],
      "metadata": {
        "id": "hsa3YopLfhKt"
      },
      "execution_count": 25,
      "outputs": []
    },
    {
      "cell_type": "code",
      "source": [
        "# Notas do(a) estudante\n",
        "notas = [8.5, 9.5, 10, 6]\n",
        "\n",
        "#Escopo de função(Funções com retorno)\n",
        "def boletim(lista):\n",
        "  media = sum(lista) / len(lista)\n",
        "\n",
        "  if media >= 6:\n",
        "    situacao = \"Aprovado\"\n",
        "  else:\n",
        "    situacao = \"Reprovado\"\n",
        "\n",
        "  return (media, situacao)"
      ],
      "metadata": {
        "id": "6SBOMsjtiOLV"
      },
      "execution_count": 29,
      "outputs": []
    },
    {
      "cell_type": "code",
      "source": [
        "media"
      ],
      "metadata": {
        "colab": {
          "base_uri": "https://localhost:8080/",
          "height": 103
        },
        "id": "l6SR2zrDjXaR",
        "outputId": "b20689f0-936f-4c33-be1f-59de85446913"
      },
      "execution_count": 30,
      "outputs": [
        {
          "output_type": "execute_result",
          "data": {
            "text/plain": [
              "<function __main__.media(lista)>"
            ],
            "text/html": [
              "<div style=\"max-width:800px; border: 1px solid var(--colab-border-color);\"><style>\n",
              "      pre.function-repr-contents {\n",
              "        overflow-x: auto;\n",
              "        padding: 8px 12px;\n",
              "        max-height: 500px;\n",
              "      }\n",
              "\n",
              "      pre.function-repr-contents.function-repr-contents-collapsed {\n",
              "        cursor: pointer;\n",
              "        max-height: 100px;\n",
              "      }\n",
              "    </style>\n",
              "    <pre style=\"white-space: initial; background:\n",
              "         var(--colab-secondary-surface-color); padding: 8px 12px;\n",
              "         border-bottom: 1px solid var(--colab-border-color);\"><b>media</b><br/>def media(lista)</pre><pre class=\"function-repr-contents function-repr-contents-collapsed\" style=\"\"><a class=\"filepath\" style=\"display:none\" href=\"#\">/tmp/ipython-input-2444840302.py</a>&lt;no docstring&gt;</pre></div>"
            ]
          },
          "metadata": {},
          "execution_count": 30
        }
      ]
    },
    {
      "cell_type": "code",
      "source": [
        "situacao"
      ],
      "metadata": {
        "colab": {
          "base_uri": "https://localhost:8080/",
          "height": 141
        },
        "id": "c1jCGBM6jcSG",
        "outputId": "a8db45b0-bfa2-49fb-b589-cde2fc00be29"
      },
      "execution_count": 31,
      "outputs": [
        {
          "output_type": "error",
          "ename": "NameError",
          "evalue": "name 'situacao' is not defined",
          "traceback": [
            "\u001b[0;31m---------------------------------------------------------------------------\u001b[0m",
            "\u001b[0;31mNameError\u001b[0m                                 Traceback (most recent call last)",
            "\u001b[0;32m/tmp/ipython-input-1076600017.py\u001b[0m in \u001b[0;36m<cell line: 0>\u001b[0;34m()\u001b[0m\n\u001b[0;32m----> 1\u001b[0;31m \u001b[0msituacao\u001b[0m\u001b[0;34m\u001b[0m\u001b[0;34m\u001b[0m\u001b[0m\n\u001b[0m",
            "\u001b[0;31mNameError\u001b[0m: name 'situacao' is not defined"
          ]
        }
      ]
    },
    {
      "cell_type": "code",
      "source": [
        "# a nossa função recebe uma lista do tipo list e retorna uma variável do tipo float\n",
        "# caso não recebe nenhum valor de parâmetro será passada uma lista com um único\n",
        "# elemento sendo ele zero\n",
        "def media(lista: list=[0]) -> float:\n",
        "  calculo = sum(lista) / len(lista)\n",
        "  return calculo"
      ],
      "metadata": {
        "id": "POkyXW4Djsdy"
      },
      "execution_count": 32,
      "outputs": []
    },
    {
      "cell_type": "code",
      "source": [
        "# Funções lambda\n",
        "# Também chamadas de função anônima;\n",
        "# Não precisa ser definida com 'def';\n",
        "# Pode ser descrita em uma única linha.\n",
        "\n",
        "# Exemplo de uma função lambda que soma dois números\n",
        "somar = lambda x, y: x + y\n",
        "\n",
        "# Exemplo de uso da função lambda\n",
        "resultado = somar(5, 3)\n",
        "print(resultado)"
      ],
      "metadata": {
        "colab": {
          "base_uri": "https://localhost:8080/"
        },
        "id": "ENDFnYkckHGJ",
        "outputId": "091d3c2b-44a8-4b67-dc9e-577922af2ebf"
      },
      "execution_count": 34,
      "outputs": [
        {
          "output_type": "stream",
          "name": "stdout",
          "text": [
            "8\n"
          ]
        }
      ]
    },
    {
      "cell_type": "code",
      "source": [
        "# Comparando uma função de qualitativo no formato de função para função anônima\n",
        "nota = float(input(\"Digite a nota do(a) estudante\"))\n",
        "\n",
        "def qualitativo(x):\n",
        "  return x + 0.5\n",
        "\n",
        "qualitativo(nota)"
      ],
      "metadata": {
        "colab": {
          "base_uri": "https://localhost:8080/"
        },
        "id": "zXpO0xlol9Rt",
        "outputId": "bb6ea59d-95d5-4926-9762-fe20318e4c25"
      },
      "execution_count": 39,
      "outputs": [
        {
          "name": "stdout",
          "output_type": "stream",
          "text": [
            "Digite a nota do(a) estudante4\n"
          ]
        },
        {
          "output_type": "execute_result",
          "data": {
            "text/plain": [
              "4.5"
            ]
          },
          "metadata": {},
          "execution_count": 39
        }
      ]
    },
    {
      "cell_type": "code",
      "source": [
        "# Testando a mesma função para uma funbção lambda\n",
        "\n",
        "nota = float(input(\"Digite a nota do(a) estudante\"))\n",
        "\n",
        "qualitativo = lambda x: x + 0.5\n",
        "\n",
        "qualitativo(nota)"
      ],
      "metadata": {
        "colab": {
          "base_uri": "https://localhost:8080/"
        },
        "id": "xwdTbmKJudem",
        "outputId": "da472cac-3254-4aa4-ded1-f1f810f1d395"
      },
      "execution_count": 40,
      "outputs": [
        {
          "name": "stdout",
          "output_type": "stream",
          "text": [
            "Digite a nota do(a) estudante5\n"
          ]
        },
        {
          "output_type": "execute_result",
          "data": {
            "text/plain": [
              "5.5"
            ]
          },
          "metadata": {},
          "execution_count": 40
        }
      ]
    },
    {
      "cell_type": "code",
      "source": [
        "# Recebendo as notas e calculando a média ponderável\n",
        "N1 = float(input(\"Digite a 1° nota do (a) estudante: \"))\n",
        "N2 = float(input(\"Digite a 2° nota do (a) estudante: \"))\n",
        "N3 = float(input(\"Digite a 3° nota do (a) estudante: \"))\n",
        "\n",
        "media_ponderavel = lambda x, y, z: (x * 3 + y * 2 + z * 5)/10\n",
        "\n",
        "media__estudante = media_ponderavel(N1, N2, N3)\n",
        "\n",
        "print(f\"A média do(a) estudante é: {media__estudante}\")"
      ],
      "metadata": {
        "colab": {
          "base_uri": "https://localhost:8080/"
        },
        "id": "OptZ3jPnvo0L",
        "outputId": "ac2a5a3a-9dc7-4170-ccbf-dddf6c0d4ed5"
      },
      "execution_count": 41,
      "outputs": [
        {
          "output_type": "stream",
          "name": "stdout",
          "text": [
            "Digite a 1° nota do (a) estudante: 2\n",
            "Digite a 2° nota do (a) estudante: 5\n",
            "Digite a 3° nota do (a) estudante: 8\n",
            "A média do(a) estudante é: 5.6\n"
          ]
        }
      ]
    },
    {
      "cell_type": "code",
      "source": [
        "# Notas do(a) estudante\n",
        "\n",
        "notas = [8.5, 9.5, 10, 6]\n",
        "qualitativo = 0.5\n",
        "\n",
        "notas_atualizadas = lambda x: x + qualitativo\n",
        "#notas_atualizadas(notas)\n",
        "\n",
        "list(map(notas_atualizadas, notas))"
      ],
      "metadata": {
        "colab": {
          "base_uri": "https://localhost:8080/"
        },
        "id": "F9zgEn8ixTKJ",
        "outputId": "ea188d88-5cb8-45e6-dcc3-c4e77efbe98e"
      },
      "execution_count": 43,
      "outputs": [
        {
          "output_type": "execute_result",
          "data": {
            "text/plain": [
              "[9.0, 10.0, 10.5, 6.5]"
            ]
          },
          "metadata": {},
          "execution_count": 43
        }
      ]
    },
    {
      "cell_type": "code",
      "source": [
        "# The 'notas_atualizadas' variable was assigned the result of the map operation in the previous cell.\n",
        "# We can now display the list.\n",
        "notas_atualizadas"
      ],
      "metadata": {
        "colab": {
          "base_uri": "https://localhost:8080/"
        },
        "id": "cg3wCReDy-og",
        "outputId": "7ea220d5-0cee-4d57-d13f-226dfdcb68d0"
      },
      "execution_count": 46,
      "outputs": [
        {
          "output_type": "execute_result",
          "data": {
            "text/plain": [
              "<function __main__.<lambda>(x)>"
            ]
          },
          "metadata": {},
          "execution_count": 46
        }
      ]
    },
    {
      "cell_type": "code",
      "source": [
        "notas"
      ],
      "metadata": {
        "colab": {
          "base_uri": "https://localhost:8080/"
        },
        "id": "k-qAHcwxzYie",
        "outputId": "9ddebc09-4b0b-48b6-b189-d48c2fcaade7"
      },
      "execution_count": 47,
      "outputs": [
        {
          "output_type": "execute_result",
          "data": {
            "text/plain": [
              "[8.5, 9.5, 10, 6]"
            ]
          },
          "metadata": {},
          "execution_count": 47
        }
      ]
    },
    {
      "cell_type": "code",
      "source": [
        "temp_celsius = [0, 25, 37, 78, 100]\n",
        "temp_fahrenheit = list(map(lambda x: (x * 9/5) + 32, temp_celsius))\n",
        "temp_fahrenheit"
      ],
      "metadata": {
        "colab": {
          "base_uri": "https://localhost:8080/"
        },
        "id": "DWwkYIS4z1kW",
        "outputId": "eb8c05af-d5b4-4399-b14d-e0e7e8b0804f"
      },
      "execution_count": 48,
      "outputs": [
        {
          "output_type": "execute_result",
          "data": {
            "text/plain": [
              "[32.0, 77.0, 98.6, 172.4, 212.0]"
            ]
          },
          "metadata": {},
          "execution_count": 48
        }
      ]
    },
    {
      "cell_type": "code",
      "source": [
        "# Lista de listas\n",
        "\n",
        "lista = [[1, 2, 3], [4, 5, 6], [7, 8, 9]]\n",
        "lista"
      ],
      "metadata": {
        "colab": {
          "base_uri": "https://localhost:8080/"
        },
        "id": "oN_dmGXjqp8W",
        "outputId": "702003aa-3c12-488e-953f-a16597a64186"
      },
      "execution_count": 2,
      "outputs": [
        {
          "output_type": "execute_result",
          "data": {
            "text/plain": [
              "[[1, 2, 3], [4, 5, 6], [7, 8, 9]]"
            ]
          },
          "metadata": {},
          "execution_count": 2
        }
      ]
    },
    {
      "cell_type": "code",
      "source": [
        "notas_turma = ['João', 8.0, 9.0, 10.0, 'Maria', 6.0, 7.0, 5.0, 'Jose', 7.0, 4.5, 9.8]\n",
        "nomes = []\n",
        "notas_juntas = []\n",
        "\n",
        "for i in range(len(notas_turma)):\n",
        "  if i % 4 == 0:\n",
        "    nomes.append(notas_turma[i])\n",
        "  else:\n",
        "    notas_juntas.append(notas_turma[i])\n",
        "\n",
        "print(\"Nomes:\", nomes)\n",
        "print(\"Notas Juntas:\", notas_juntas)"
      ],
      "metadata": {
        "colab": {
          "base_uri": "https://localhost:8080/"
        },
        "id": "z10ayz-Wq8gF",
        "outputId": "8bfe6807-bd76-4ca4-9f01-c2ea2597ab7a"
      },
      "execution_count": 4,
      "outputs": [
        {
          "output_type": "stream",
          "name": "stdout",
          "text": [
            "Nomes: ['João', 'Maria', 'Jose']\n",
            "Notas Juntas: [8.0, 9.0, 10.0, 6.0, 7.0, 5.0, 7.0, 4.5, 9.8]\n"
          ]
        }
      ]
    },
    {
      "cell_type": "code",
      "source": [
        "notas = []\n",
        "\n",
        "for i in range(0, len(notas_juntas), 3):\n",
        "  notas.append([notas_juntas[i], notas_juntas[i+1], notas_juntas[i+2]])\n",
        "\n",
        "notas"
      ],
      "metadata": {
        "colab": {
          "base_uri": "https://localhost:8080/"
        },
        "id": "cjDjiAzOtIGd",
        "outputId": "412d9785-f6af-484e-bcdc-44dd68c22f7d"
      },
      "execution_count": 7,
      "outputs": [
        {
          "output_type": "execute_result",
          "data": {
            "text/plain": [
              "[[8.0, 9.0, 10.0], [6.0, 7.0, 5.0], [7.0, 4.5, 9.8]]"
            ]
          },
          "metadata": {},
          "execution_count": 7
        }
      ]
    },
    {
      "cell_type": "code",
      "source": [
        "notas[0]"
      ],
      "metadata": {
        "colab": {
          "base_uri": "https://localhost:8080/"
        },
        "id": "nYVWXBDXuOW_",
        "outputId": "f4d7c41a-8542-434b-b016-61c3f1efd1ac"
      },
      "execution_count": 8,
      "outputs": [
        {
          "output_type": "execute_result",
          "data": {
            "text/plain": [
              "[8.0, 9.0, 10.0]"
            ]
          },
          "metadata": {},
          "execution_count": 8
        }
      ]
    },
    {
      "cell_type": "code",
      "source": [
        "# Lista de tuplas\n",
        "\n",
        "estudantes = ['João', 'Maria', 'Jose']\n",
        "estudantes\n",
        "\n",
        "from random import randint\n",
        "\n",
        "def gera_codigo():\n",
        "  return str(randint(0, 999))"
      ],
      "metadata": {
        "id": "qKcZoHiwtHpV"
      },
      "execution_count": 9,
      "outputs": []
    },
    {
      "cell_type": "code",
      "source": [
        "codigo_estudantes =  []\n",
        "\n",
        "for i in range(len(estudantes)):\n",
        "  codigo_estudantes.append((estudantes[i], estudantes[i][0], gera_codigo()))\n",
        "\n",
        "codigo_estudantes"
      ],
      "metadata": {
        "colab": {
          "base_uri": "https://localhost:8080/"
        },
        "id": "JMI-AuRTtHAj",
        "outputId": "c4017091-ffa5-4d39-b342-ce295d01f398"
      },
      "execution_count": 10,
      "outputs": [
        {
          "output_type": "execute_result",
          "data": {
            "text/plain": [
              "[('João', 'J', '994'), ('Maria', 'M', '344'), ('Jose', 'J', '962')]"
            ]
          },
          "metadata": {},
          "execution_count": 10
        }
      ]
    }
  ]
}