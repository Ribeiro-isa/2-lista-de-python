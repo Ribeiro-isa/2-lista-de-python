{
  "nbformat": 4,
  "nbformat_minor": 0,
  "metadata": {
    "colab": {
      "provenance": [],
      "authorship_tag": "ABX9TyN5da3Y7hlQqqYM3yLobRuX",
      "include_colab_link": true
    },
    "kernelspec": {
      "name": "python3",
      "display_name": "Python 3"
    },
    "language_info": {
      "name": "python"
    }
  },
  "cells": [
    {
      "cell_type": "markdown",
      "metadata": {
        "id": "view-in-github",
        "colab_type": "text"
      },
      "source": [
        "<a href=\"https://colab.research.google.com/github/Ribeiro-isa/2-lista-de-python/blob/main/Atividades_2_0.ipynb\" target=\"_parent\"><img src=\"https://colab.research.google.com/assets/colab-badge.svg\" alt=\"Open In Colab\"/></a>"
      ]
    },
    {
      "cell_type": "code",
      "execution_count": 1,
      "metadata": {
        "colab": {
          "base_uri": "https://localhost:8080/"
        },
        "id": "sX_6_wxrIZ1y",
        "outputId": "ee47eb4a-752b-4d58-ec22-24691fcb07f9"
      },
      "outputs": [
        {
          "output_type": "stream",
          "name": "stdout",
          "text": [
            "Salário inicial: R$ 750\n",
            "Aumento de 15%: R$ 112.5\n",
            "Novo salário: R$ 862.5\n"
          ]
        }
      ],
      "source": [
        "salario = 750\n",
        "aumento = salario * 0.15\n",
        "novo_salario = salario + aumento\n",
        "\n",
        "print(\"Salário inicial: R$\", salario)\n",
        "print(\"Aumento de 15%: R$\", aumento)\n",
        "print(\"Novo salário: R$\", novo_salario)\n"
      ]
    },
    {
      "cell_type": "code",
      "source": [
        "k = int(input(\"Digite um número inteiro qualquer: \"))\n",
        "print(\"O antecessor é:\", k - 1)\n"
      ],
      "metadata": {
        "colab": {
          "base_uri": "https://localhost:8080/"
        },
        "id": "RCdkPjp_ItG0",
        "outputId": "55be69d7-2790-42ea-8686-076cf9bd6f42"
      },
      "execution_count": 3,
      "outputs": [
        {
          "output_type": "stream",
          "name": "stdout",
          "text": [
            "Digite um número inteiro qualquer: 0\n",
            "O antecessor é: -1\n"
          ]
        }
      ]
    },
    {
      "cell_type": "code",
      "source": [
        "anos = int(input(\"Digite sua idade em anos: \"))\n",
        "meses = int(input(\"Digite os meses: \"))\n",
        "dias = int(input(\"Digite os dias: \"))\n",
        "\n",
        "idade_dias = (anos * 365) + (meses * 30) + dias\n",
        "print(\"Sua idade em dias é:\", idade_dias)\n"
      ],
      "metadata": {
        "colab": {
          "base_uri": "https://localhost:8080/"
        },
        "id": "ckRr4O_FI7Cc",
        "outputId": "2ec0b655-3961-472c-fb94-8a0e3752c6b9"
      },
      "execution_count": 4,
      "outputs": [
        {
          "output_type": "stream",
          "name": "stdout",
          "text": [
            "Digite sua idade em anos: 20\n",
            "Digite os meses: 8\n",
            "Digite os dias: 6\n",
            "Sua idade em dias é: 7546\n"
          ]
        }
      ]
    },
    {
      "cell_type": "code",
      "source": [
        "n1 = float(input(\"Digite a primeira nota: \"))\n",
        "n2 = float(input(\"Digite a segunda nota: \"))\n",
        "n3 = float(input(\"Digite a terceira nota: \"))\n",
        "\n",
        "media = (n1 + n2 + n3) / 3\n",
        "print(\"A média do aluno é:\", media)\n",
        "\n"
      ],
      "metadata": {
        "colab": {
          "base_uri": "https://localhost:8080/"
        },
        "id": "tihq5J_qJL9y",
        "outputId": "75a7ac91-eeaf-4b49-ed39-f5a48012e74b"
      },
      "execution_count": 6,
      "outputs": [
        {
          "output_type": "stream",
          "name": "stdout",
          "text": [
            "Digite a primeira nota: 12\n",
            "Digite a segunda nota: 30\n",
            "Digite a terceira nota: 27\n",
            "A média do aluno é: 23.0\n"
          ]
        }
      ]
    },
    {
      "cell_type": "code",
      "source": [
        "cateto_adj = float(input(\"Digite o valor do cateto adjacente: \"))\n",
        "cateto_op = float(input(\"Digite o valor do cateto oposto: \"))\n",
        "\n",
        "hipotenusa = (cateto_adj**2 + cateto_op**2) ** 0.5\n",
        "print(\"O valor da hipotenusa é:\", hipotenusa)\n"
      ],
      "metadata": {
        "colab": {
          "base_uri": "https://localhost:8080/"
        },
        "id": "OvQlciDeJerg",
        "outputId": "ccbe61bb-e9f2-4a0c-b6ae-848f8535da38"
      },
      "execution_count": 7,
      "outputs": [
        {
          "output_type": "stream",
          "name": "stdout",
          "text": [
            "Digite o valor do cateto adjacente: 7\n",
            "Digite o valor do cateto oposto: 5\n",
            "O valor da hipotenusa é: 8.602325267042627\n"
          ]
        }
      ]
    }
  ]
}