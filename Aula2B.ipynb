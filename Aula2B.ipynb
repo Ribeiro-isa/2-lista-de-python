{
  "nbformat": 4,
  "nbformat_minor": 0,
  "metadata": {
    "colab": {
      "provenance": [],
      "authorship_tag": "ABX9TyOj+FGujyaK+V7R6rdwZpQT",
      "include_colab_link": true
    },
    "kernelspec": {
      "name": "python3",
      "display_name": "Python 3"
    },
    "language_info": {
      "name": "python"
    }
  },
  "cells": [
    {
      "cell_type": "markdown",
      "metadata": {
        "id": "view-in-github",
        "colab_type": "text"
      },
      "source": [
        "<a href=\"https://colab.research.google.com/github/Ribeiro-isa/2-lista-de-python/blob/main/Aula2B.ipynb\" target=\"_parent\"><img src=\"https://colab.research.google.com/assets/colab-badge.svg\" alt=\"Open In Colab\"/></a>"
      ]
    },
    {
      "cell_type": "code",
      "execution_count": 4,
      "metadata": {
        "colab": {
          "base_uri": "https://localhost:8080/"
        },
        "id": "izGS8jQBFK1D",
        "outputId": "67174fd2-073f-4548-97f3-0dfabe9b70f3"
      },
      "outputs": [
        {
          "output_type": "stream",
          "name": "stdout",
          "text": [
            "[0, 1, 2, 3, 4]\n",
            "[3, 4, 5, 6, 7]\n",
            "[2, 5, 8]\n",
            "[0, 1, 2, 3, 4, 3, 4, 5, 6, 7]\n",
            "[2, 5, 8, 2, 5, 8, 2, 5, 8, 2, 5, 8]\n",
            "[9, 'texto', 5.7, [16, 11, 18], 'Python', [7, 8]]\n",
            "['texto', 5.7, [16, 11, 18]]\n",
            "[5.7, [16, 11, 18], 'Python', [7, 8]]\n",
            "[9, 'texto', 5.7, [16, 11, 18]]\n"
          ]
        }
      ],
      "source": [
        "l1 = list(range(5))\n",
        "print(l1)\n",
        "l2 = list(range(3,8))\n",
        "print(l2)\n",
        "l3 = list(range(2,11,3))\n",
        "print(l3)\n",
        "l4 = l1 + l2\n",
        "print(l4)\n",
        "l5 = l3 * 4\n",
        "print(l5)\n",
        "l6 = [9 , 'texto' , 5.7 , [16, 11 , 18] , \"Python\" , [7 , 8]]\n",
        "print(l6)\n",
        "l7 = l6[1:4]\n",
        "print(l7)\n",
        "l8 = l6[2:]\n",
        "print(l8)\n",
        "l9 = l6[:4]\n",
        "print(l9)"
      ]
    },
    {
      "cell_type": "code",
      "source": [
        "Nome = input('Qual seu nome? ')\n",
        "Idade = input('Quantos anos você tem? ')\n",
        "print('Seu nome é:', Nome)\n",
        "print('Sua idade:', Idade)"
      ],
      "metadata": {
        "colab": {
          "base_uri": "https://localhost:8080/"
        },
        "id": "A28k20zqdCad",
        "outputId": "bb4a33eb-3057-4a22-f264-1434dd9c96c7"
      },
      "execution_count": 2,
      "outputs": [
        {
          "output_type": "stream",
          "name": "stdout",
          "text": [
            "Qual seu nome? Isa Ribeiro\n",
            "Quantos anos você tem? 20\n",
            "Seu nome é: Isa Ribeiro\n",
            "Sua idade: 20\n"
          ]
        }
      ]
    },
    {
      "cell_type": "code",
      "source": [
        "v1 = 3.45\n",
        "print(type(v1) is float)\n",
        "v2 = 10\n",
        "print(type(v2) is int)\n",
        "v3 = True\n",
        "print(type(v3) is bool)\n",
        "v4 = 'Palavra'\n",
        "print(type(v4) is str)"
      ],
      "metadata": {
        "colab": {
          "base_uri": "https://localhost:8080/"
        },
        "id": "-obbL8Z4dXnO",
        "outputId": "6de5dde4-974a-42a1-f278-da80503f32bb"
      },
      "execution_count": 3,
      "outputs": [
        {
          "output_type": "stream",
          "name": "stdout",
          "text": [
            "True\n",
            "True\n",
            "True\n",
            "True\n"
          ]
        }
      ]
    },
    {
      "cell_type": "code",
      "source": [
        "# Lê dois valores e imprime qual é o maior\n",
        "a = int(input(\"Primeiro valor: \"))\n",
        "b = int(input(\"Segundo valor: \"))\n",
        "if a > b:\n",
        "    print(\"O maior é:\", a)\n",
        "else:\n",
        "    print(\"O maior é:\", b)"
      ],
      "metadata": {
        "colab": {
          "base_uri": "https://localhost:8080/"
        },
        "id": "KoeZp79Id2Gv",
        "outputId": "8c76adc3-4f03-46d2-9658-4ea3f97e114d"
      },
      "execution_count": 4,
      "outputs": [
        {
          "output_type": "stream",
          "name": "stdout",
          "text": [
            "Primeiro valor: 22\n",
            "Segundo valor: 41\n",
            "O maior é: 41\n"
          ]
        }
      ]
    },
    {
      "cell_type": "code",
      "source": [
        "# Lê dois valores e imprime qual é o maior\n",
        "a = int(input(\"Primeiro valor: \"))\n",
        "b = int(input(\"Segundo valor: \"))\n",
        "if a > b:\n",
        "    print(\"O primeiro valor é o maior!\")\n",
        "elif b > a:\n",
        "    print(\"O segundo valor é o maior!\")\n",
        "else:\n",
        "    print(\"Os valores são iguais!\")"
      ],
      "metadata": {
        "colab": {
          "base_uri": "https://localhost:8080/"
        },
        "id": "f8V17ZBxfFlq",
        "outputId": "54de33a6-6bc9-4af2-ff1c-5adfa809958e"
      },
      "execution_count": 2,
      "outputs": [
        {
          "output_type": "stream",
          "name": "stdout",
          "text": [
            "Primeiro valor: 5\n",
            "Segundo valor: 4\n",
            "O primeiro valor é o maior!\n"
          ]
        }
      ]
    },
    {
      "cell_type": "code",
      "source": [
        "#3.1 - Lê os dois valores e efetue a soma\n",
        "try:\n",
        "    a = float(input(\"Primeiro valor: \"))\n",
        "    b = float(input(\"Segundo valor: \"))\n",
        "    soma = a + b\n",
        "    print(\"Soma:\", soma)\n",
        "except ValueError:\n",
        "    print(\"Entrada inválida. Por favor, use um ponto (.) como separador decimal, não uma vírgula (,) .\")"
      ],
      "metadata": {
        "colab": {
          "base_uri": "https://localhost:8080/"
        },
        "id": "U82EujtZy4gn",
        "outputId": "9a2aec9c-2733-4bd5-a347-1992c6d803a1"
      },
      "execution_count": 5,
      "outputs": [
        {
          "output_type": "stream",
          "name": "stdout",
          "text": [
            "Primeiro valor: 7.4\n",
            "Segundo valor: 5.3\n",
            "Soma: 12.7\n"
          ]
        }
      ]
    },
    {
      "cell_type": "code",
      "source": [
        "#3.1 Lê os dois números e efetue a soma (número inteiro)\n",
        "\n",
        "try:\n",
        "    a = int(input(\"Primeiro valor: \"))\n",
        "    b = int(input(\"Segundo valor: \"))\n",
        "    soma = a + b\n",
        "    print(\"Soma:\", soma)\n",
        "except ValueError:\n",
        "    print"
      ],
      "metadata": {
        "colab": {
          "base_uri": "https://localhost:8080/"
        },
        "id": "v1SDvpmm0JEC",
        "outputId": "3ba340b4-40c4-465b-e9db-2a654a67897f"
      },
      "execution_count": 8,
      "outputs": [
        {
          "name": "stdout",
          "output_type": "stream",
          "text": [
            "Primeiro valor: 5.4\n"
          ]
        }
      ]
    },
    {
      "cell_type": "code",
      "source": [
        "#3.2 Programa que leia um valor em metro e leia em milímetros.\n",
        "\n",
        "metro = float(input(\"Digite um valor em metros: \"))\n",
        "milimetro = metro * 1000\n",
        "print(f\"{metro} metros equivalem a {milimetro} milímetros.\")"
      ],
      "metadata": {
        "colab": {
          "base_uri": "https://localhost:8080/"
        },
        "id": "lg8kj9rQ0t29",
        "outputId": "d9c71843-784b-453c-ac98-d4431e962669"
      },
      "execution_count": 9,
      "outputs": [
        {
          "output_type": "stream",
          "name": "stdout",
          "text": [
            "Digite um valor em metros: 8\n",
            "8.0 metros equivalem a 8000.0 milímetros.\n"
          ]
        }
      ]
    },
    {
      "cell_type": "code",
      "source": [
        "#3.3 Desenvolva um programa que leia a quantidade de dias, horas, minutos e segundos do usuário. Calcule o total em segundos.\n",
        "\n",
        "dias = int(input(\"Digite a quantidade de dias: \"))\n",
        "horas = int(input(\"Digite a quantidade de horas: \"))\n",
        "minutos = int(input(\"Digite a quantidade de minutos: \"))\n",
        "segundos = int(input(\"Digite a quantidade de segundos: \"))\n",
        "\n",
        "total_segundos = dias * 86400 + horas * 3600 + minutos * 60 + segundos\n",
        "\n",
        "print(f\"O total em segundos é: {total_segundos} segundos.\")"
      ],
      "metadata": {
        "colab": {
          "base_uri": "https://localhost:8080/"
        },
        "id": "gdnoXY0K1ZWR",
        "outputId": "7ab473fb-15f5-4d00-fb61-16dfbf5712b7"
      },
      "execution_count": 10,
      "outputs": [
        {
          "output_type": "stream",
          "name": "stdout",
          "text": [
            "Digite a quantidade de dias: 21\n",
            "Digite a quantidade de horas: 69\n",
            "Digite a quantidade de minutos: 53\n",
            "Digite a quantidade de segundos: 3\n",
            "O total em segundos é: 2065983 segundos.\n"
          ]
        }
      ]
    },
    {
      "cell_type": "code",
      "source": [
        "#3.4  Execute um código que calcule o aumento de um salário. Ele deve solicitar o valor do salário e a porcentagem do aumento. Exiba o valor do aumento e do novo salário.\n",
        "\n",
        "salário = float(input(\"Digite o valor do salário: \"))\n",
        "aumento = float(input(\"Digite a porcentagem de aumento: \"))\n",
        "\n",
        "novo_salário = salário * (1 + aumento / 100)\n",
        "\n",
        "print(f\"O valor do aumento é: R${novo_salário - salário:.2f}\")\n",
        "print(f\"O novo salário é: R${novo_salário:.2f}\")\n"
      ],
      "metadata": {
        "id": "3J5Kvnos2QkV"
      },
      "execution_count": null,
      "outputs": []
    },
    {
      "cell_type": "code",
      "source": [
        "#3.5 Desenvolva um programa que solicite o preço de uma mercadoria e o percentual de desconto. Exiba o valor do desconto e o preço a pagar.\n",
        "\n",
        "preço = float(input(\"Digite o preço da mercadoria: \"))\n",
        "desconto = float(input(\"Digite o percentual de desconto: \"))\n",
        "\n",
        "valor_desconto =  preço * (desconto / 100)\n",
        "\n",
        "preço_a_pagar = preço - valor_desconto\n",
        "\n",
        "print(f\"O valor do desconto é: R${valor_desconto:.2f}\")\n",
        "\n",
        "print(f\"O preço a pagar é: R${preço_a_pagar:.2f}\")\n",
        "\n",
        "print(f\"Obrigada pela compra! Tenha um bom dia!\")"
      ],
      "metadata": {
        "id": "v2zFr4j6298P"
      },
      "execution_count": null,
      "outputs": []
    },
    {
      "cell_type": "code",
      "source": [
        "#3.5 Desenvolva um programa que solicite o preço de uma mercadoria e o percentual de desconto. Exiba o valor do desconto e o preço a pagar.\n",
        "\n",
        "preço = float(input(\"Digite o preço da mercadoria: \"))\n",
        "desconto = float(input(\"Digite o percentual de desconto: \"))\n",
        "\n",
        "valor_desconto =  preço * (desconto / 100)\n",
        "\n",
        "preço_a_pagar = preço - valor_desconto\n",
        "\n",
        "print(f\"O valor do desconto é: R${valor_desconto:.2f}\")\n",
        "\n",
        "print(f\"O preço a pagar é: R${preço_a_pagar:.2f}\")\n",
        "\n",
        "print(f\"Obrigada pela compra! Tenha um bom dia!\")"
      ],
      "metadata": {
        "id": "6tS1CUoB9Qnw"
      },
      "execution_count": null,
      "outputs": []
    },
    {
      "cell_type": "code",
      "source": [
        "#3.6 Escreva um programa que calcule o tempo de uma viagem de carro. Pergunte a distância a percorrer e a velocidade média esperada para a viagem.\n",
        "\n",
        "distância = float(input(\"Digite a distância a percorrer (em km): \"))\n",
        "velocidade_média = float(input(\"Digite a velocidade média esperada (em km/h): \"))\n",
        "\n",
        "tempo_viagem = distância / velocidade_média\n",
        "\n",
        "print(f\"O tempo estimado de viagem é de {tempo_viagem:.2f} horas.\")\n",
        "\n",
        "print (input(\"Boa viagem!\"))"
      ],
      "metadata": {
        "id": "56mOVjSc-Z_N"
      },
      "execution_count": null,
      "outputs": []
    }
  ]
}