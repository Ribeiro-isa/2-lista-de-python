{
  "nbformat": 4,
  "nbformat_minor": 0,
  "metadata": {
    "colab": {
      "provenance": [],
      "authorship_tag": "ABX9TyMI40X5jDpAT9U2sn8mKH9Y",
      "include_colab_link": true
    },
    "kernelspec": {
      "name": "python3",
      "display_name": "Python 3"
    },
    "language_info": {
      "name": "python"
    }
  },
  "cells": [
    {
      "cell_type": "markdown",
      "metadata": {
        "id": "view-in-github",
        "colab_type": "text"
      },
      "source": [
        "<a href=\"https://colab.research.google.com/github/Ribeiro-isa/2-lista-de-python/blob/main/A_I_02A.ipynb\" target=\"_parent\"><img src=\"https://colab.research.google.com/assets/colab-badge.svg\" alt=\"Open In Colab\"/></a>"
      ]
    },
    {
      "cell_type": "code",
      "execution_count": 2,
      "metadata": {
        "colab": {
          "base_uri": "https://localhost:8080/",
          "height": 540
        },
        "id": "sy7RbR_3MemR",
        "outputId": "71af2403-8fdc-411b-d3fe-f13a512cf1ba"
      },
      "outputs": [
        {
          "name": "stdout",
          "output_type": "stream",
          "text": [
            "Digite o primeiro número inteiro: 8\n",
            "Digite o segundo número inteiro: 7\n",
            "A soma é: 15\n",
            "Digite o valor em metros: 4\n",
            "4.0 m equivalem a 4000.0 mm\n",
            "Dias: 5\n",
            "Horas: 9\n",
            "Minutos: 2\n",
            "Segundos: 99\n",
            "O total em segundos é: 464619\n",
            "Digite o salário: R$ 1400\n",
            "Digite o percentual de aumento (%): 5\n",
            "Aumento: R$ 70.0\n",
            "Novo salário: R$ 1470.0\n",
            "Digite o preço da mercadoria: R$ 12\n",
            "Digite o percentual de desconto (%): 5\n",
            "Valor do desconto: R$ 0.6000000000000001\n",
            "Preço final a pagar: R$ 11.4\n",
            "Digite a distância a percorrer (km): 6,6\n"
          ]
        },
        {
          "output_type": "error",
          "ename": "ValueError",
          "evalue": "could not convert string to float: '6,6'",
          "traceback": [
            "\u001b[0;31m---------------------------------------------------------------------------\u001b[0m",
            "\u001b[0;31mValueError\u001b[0m                                Traceback (most recent call last)",
            "\u001b[0;32m/tmp/ipython-input-465082929.py\u001b[0m in \u001b[0;36m<cell line: 0>\u001b[0;34m()\u001b[0m\n\u001b[1;32m     45\u001b[0m \u001b[0;31m# -----------------------------------------------------\u001b[0m\u001b[0;34m\u001b[0m\u001b[0;34m\u001b[0m\u001b[0m\n\u001b[1;32m     46\u001b[0m \u001b[0;34m\u001b[0m\u001b[0m\n\u001b[0;32m---> 47\u001b[0;31m \u001b[0mdistancia\u001b[0m \u001b[0;34m=\u001b[0m \u001b[0mfloat\u001b[0m\u001b[0;34m(\u001b[0m\u001b[0minput\u001b[0m\u001b[0;34m(\u001b[0m\u001b[0;34m\"Digite a distância a percorrer (km): \"\u001b[0m\u001b[0;34m)\u001b[0m\u001b[0;34m)\u001b[0m\u001b[0;34m\u001b[0m\u001b[0;34m\u001b[0m\u001b[0m\n\u001b[0m\u001b[1;32m     48\u001b[0m \u001b[0mvelocidade\u001b[0m \u001b[0;34m=\u001b[0m \u001b[0mfloat\u001b[0m\u001b[0;34m(\u001b[0m\u001b[0minput\u001b[0m\u001b[0;34m(\u001b[0m\u001b[0;34m\"Digite a velocidade média (km/h): \"\u001b[0m\u001b[0;34m)\u001b[0m\u001b[0;34m)\u001b[0m\u001b[0;34m\u001b[0m\u001b[0;34m\u001b[0m\u001b[0m\n\u001b[1;32m     49\u001b[0m \u001b[0;34m\u001b[0m\u001b[0m\n",
            "\u001b[0;31mValueError\u001b[0m: could not convert string to float: '6,6'"
          ]
        }
      ],
      "source": [
        "n1 = int(input(\"Digite o primeiro número inteiro: \"))\n",
        "n2 = int(input(\"Digite o segundo número inteiro: \"))\n",
        "\n",
        "soma = n1 + n2\n",
        "print(\"A soma é:\", soma)\n",
        "\n",
        "# ---------------------------------------------------\n",
        "\n",
        "metros = float(input(\"Digite o valor em metros: \"))\n",
        "milimetros = metros * 1000\n",
        "print(metros, \"m equivalem a\", milimetros, \"mm\")\n",
        "\n",
        "# ---------------------------------------------------\n",
        "\n",
        "dias = int(input(\"Dias: \"))\n",
        "horas = int(input(\"Horas: \"))\n",
        "minutos = int(input(\"Minutos: \"))\n",
        "segundos = int(input(\"Segundos: \"))\n",
        "\n",
        "total_segundos = (dias * 24 * 3600) + (horas * 3600) + (minutos * 60) + segundos\n",
        "print(\"O total em segundos é:\", total_segundos)\n",
        "\n",
        "# ---------------------------------------------------\n",
        "\n",
        "salario = float(input(\"Digite o salário: R$ \"))\n",
        "percentual = float(input(\"Digite o percentual de aumento (%): \"))\n",
        "\n",
        "aumento = salario * (percentual / 100)\n",
        "novo_salario = salario + aumento\n",
        "\n",
        "print(\"Aumento: R$\", aumento)\n",
        "print(\"Novo salário: R$\", novo_salario)\n",
        "\n",
        "# ---------------------------------------------------\n",
        "\n",
        "preco = float(input(\"Digite o preço da mercadoria: R$ \"))\n",
        "desconto = float(input(\"Digite o percentual de desconto (%): \"))\n",
        "\n",
        "valor_desconto = preco * (desconto / 100)\n",
        "preco_final = preco - valor_desconto\n",
        "\n",
        "print(\"Valor do desconto: R$\", valor_desconto)\n",
        "print(\"Preço final a pagar: R$\", preco_final)\n",
        "\n",
        "# -----------------------------------------------------\n",
        "\n",
        "distancia = float(input(\"Digite a distância a percorrer (km): \"))\n",
        "velocidade = float(input(\"Digite a velocidade média (km/h): \"))\n",
        "\n",
        "tempo = distancia / velocidade\n",
        "print(\"Tempo estimado da viagem:\", tempo, \"horas\")\n",
        "\n",
        "# ----------------------------------------------------\n",
        "\n",
        "celsius = float(input(\"Digite a temperatura em °C: \"))\n",
        "fahrenheit = (celsius * 9/5) + 32\n",
        "print(\"A temperatura em Fahrenheit é:\", fahrenheit, \"°F\")\n",
        "\n",
        "# -----------------------------------------------------\n",
        "\n",
        "km = float(input(\"Quantos km percorridos? \"))\n",
        "dias = int(input(\"Quantos dias de aluguel? \"))\n",
        "\n",
        "preco = (dias * 60) + (km * 0.15)\n",
        "print(\"Preço a pagar: R$\", preco)\n",
        "\n",
        "# ---------------------------------------------------------\n",
        "\n",
        "cigarros_dia = int(input(\"Quantos cigarros você fuma por dia? \"))\n",
        "anos = int(input(\"Há quantos anos você fuma? \"))\n",
        "\n",
        "total_cigarros = cigarros_dia * (anos * 365)\n",
        "minutos_perdidos = total_cigarros * 10\n",
        "dias_perdidos = minutos_perdidos / (60 * 24)\n",
        "\n",
        "print(\"Você perdeu aproximadamente\", int(dias_perdidos), \"dias de vida.\")\n",
        "\n",
        "# ------------------------------------------------------------------\n",
        "\n",
        "a = float(input(\"Primeiro valor: \"))\n",
        "b = float(input(\"Segundo valor: \"))\n",
        "\n",
        "if a > b:\n",
        "    print(\"O primeiro valor é o maior!\")\n",
        "if b > a:\n",
        "    print(\"O segundo valor é o maior!\")\n",
        "# I'll add an else block for the case where the numbers are equal.\n",
        "elif b == a:\n",
        "    print(\"Os números são iguais!\")"
      ]
    }
  ]
}