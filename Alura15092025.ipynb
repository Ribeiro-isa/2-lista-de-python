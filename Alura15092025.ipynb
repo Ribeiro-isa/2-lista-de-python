{
  "nbformat": 4,
  "nbformat_minor": 0,
  "metadata": {
    "colab": {
      "provenance": [],
      "authorship_tag": "ABX9TyNgFmutIdvMfYYC/94q5KYc",
      "include_colab_link": true
    },
    "kernelspec": {
      "name": "python3",
      "display_name": "Python 3"
    },
    "language_info": {
      "name": "python"
    }
  },
  "cells": [
    {
      "cell_type": "markdown",
      "metadata": {
        "id": "view-in-github",
        "colab_type": "text"
      },
      "source": [
        "<a href=\"https://colab.research.google.com/github/Ribeiro-isa/2-lista-de-python/blob/main/Alura15092025.ipynb\" target=\"_parent\"><img src=\"https://colab.research.google.com/assets/colab-badge.svg\" alt=\"Open In Colab\"/></a>"
      ]
    },
    {
      "cell_type": "code",
      "execution_count": null,
      "metadata": {
        "colab": {
          "base_uri": "https://localhost:8080/"
        },
        "id": "qw6QxNaBrswS",
        "outputId": "02d61a0c-03e9-440e-9a62-502d8c943d9b"
      },
      "outputs": [
        {
          "output_type": "execute_result",
          "data": {
            "text/plain": [
              "1"
            ]
          },
          "metadata": {},
          "execution_count": 2
        }
      ],
      "source": [
        "List = ['Fabricio, 5, 3, 9']\n",
        "len(List)"
      ]
    },
    {
      "cell_type": "code",
      "source": [
        "List[1:4]"
      ],
      "metadata": {
        "colab": {
          "base_uri": "https://localhost:8080/"
        },
        "id": "sKI-VGWvsr4J",
        "outputId": "ec3f5acf-de20-41b1-f8c5-0cd03adda6b1"
      },
      "execution_count": null,
      "outputs": [
        {
          "output_type": "execute_result",
          "data": {
            "text/plain": [
              "[]"
            ]
          },
          "metadata": {},
          "execution_count": 6
        }
      ]
    },
    {
      "cell_type": "code",
      "source": [
        "List[1:4]"
      ],
      "metadata": {
        "colab": {
          "base_uri": "https://localhost:8080/"
        },
        "id": "6OwGpaEttE1j",
        "outputId": "874505e9-cfa2-4edd-ea47-155de3f5effa"
      },
      "execution_count": null,
      "outputs": [
        {
          "output_type": "execute_result",
          "data": {
            "text/plain": [
              "[]"
            ]
          },
          "metadata": {},
          "execution_count": 7
        }
      ]
    },
    {
      "cell_type": "code",
      "source": [
        " List.append('10')\n",
        " List"
      ],
      "metadata": {
        "colab": {
          "base_uri": "https://localhost:8080/"
        },
        "id": "xdFI7phctO-j",
        "outputId": "a0022bf4-1edd-415c-def9-33b88b2b629a"
      },
      "execution_count": null,
      "outputs": [
        {
          "output_type": "execute_result",
          "data": {
            "text/plain": [
              "['Fabricio, 5, 3, 9', '10', '10']"
            ]
          },
          "metadata": {},
          "execution_count": 9
        }
      ]
    },
    {
      "cell_type": "code",
      "source": [
        "Compulter = 'Computer'\n",
        "English = 'English'\n",
        "List.extend([Compulter, English])\n",
        "List"
      ],
      "metadata": {
        "colab": {
          "base_uri": "https://localhost:8080/"
        },
        "id": "moy_qcYbuYMr",
        "outputId": "5184428d-6bd9-4650-d3d8-c55b480c128d"
      },
      "execution_count": null,
      "outputs": [
        {
          "output_type": "execute_result",
          "data": {
            "text/plain": [
              "['Fabricio, 5, 3, 9', '10', '10', 'Computer', 'English']"
            ]
          },
          "metadata": {},
          "execution_count": 11
        }
      ]
    },
    {
      "cell_type": "code",
      "source": [
        "from copyreg import remove_extension\n",
        "List.remove('English')\n",
        "List"
      ],
      "metadata": {
        "colab": {
          "base_uri": "https://localhost:8080/"
        },
        "id": "_Tj6bGqvu8Eg",
        "outputId": "a096876b-e318-4c6b-b6a9-653491408631"
      },
      "execution_count": null,
      "outputs": [
        {
          "output_type": "execute_result",
          "data": {
            "text/plain": [
              "['Fabricio, 5, 3, 9', '10', '10', 'Computer']"
            ]
          },
          "metadata": {},
          "execution_count": 15
        }
      ]
    },
    {
      "cell_type": "code",
      "source": [
        "dictionary = {'chave_1:1',\n",
        "              'chave_2:2'}\n",
        "dictionary"
      ],
      "metadata": {
        "colab": {
          "base_uri": "https://localhost:8080/"
        },
        "id": "Gf4IlubSvXHr",
        "outputId": "cd49e9b1-36e5-4444-8040-6a33bf76ee14"
      },
      "execution_count": null,
      "outputs": [
        {
          "output_type": "execute_result",
          "data": {
            "text/plain": [
              "{'chave_1:1', 'chave_2:2'}"
            ]
          },
          "metadata": {},
          "execution_count": 20
        }
      ]
    },
    {
      "cell_type": "code",
      "source": [
        "cadastro = {'matrícula': 42322274,\n",
        "            'dia_cadastro': 24,\n",
        "            'mes_cadastro': 2,\n",
        "            'turma': '308A'}\n",
        "cadastro"
      ],
      "metadata": {
        "colab": {
          "base_uri": "https://localhost:8080/"
        },
        "id": "i1x5t6XswL5y",
        "outputId": "5a4be6a8-2400-42e2-8a2a-10fe33906e7e"
      },
      "execution_count": null,
      "outputs": [
        {
          "output_type": "execute_result",
          "data": {
            "text/plain": [
              "{'matrícula': 42322274, 'dia_cadastro': 24, 'mes_cadastro': 2, 'turma': '308A'}"
            ]
          },
          "metadata": {},
          "execution_count": 22
        }
      ]
    },
    {
      "cell_type": "code",
      "source": [
        "cadastro['turma'] = '2A'\n",
        "cadastro"
      ],
      "metadata": {
        "colab": {
          "base_uri": "https://localhost:8080/"
        },
        "id": "VK5MkPdfxVWy",
        "outputId": "1835d90a-bc52-4a18-af38-66cfc024e37f"
      },
      "execution_count": null,
      "outputs": [
        {
          "output_type": "execute_result",
          "data": {
            "text/plain": [
              "{'matrícula': 42322274, 'dia_cadastro': 24, 'mes_cadastro': 2, 'turma': '2A'}"
            ]
          },
          "metadata": {},
          "execution_count": 24
        }
      ]
    },
    {
      "cell_type": "code",
      "source": [],
      "metadata": {
        "id": "tEiRbwHjxp2s"
      },
      "execution_count": null,
      "outputs": []
    }
  ]
}